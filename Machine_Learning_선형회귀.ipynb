{
  "nbformat": 4,
  "nbformat_minor": 0,
  "metadata": {
    "colab": {
      "provenance": [],
      "collapsed_sections": [
        "MfFXQoMOlrM4"
      ],
      "authorship_tag": "ABX9TyNV2fpDBcyNP1ru7HPMaXoB",
      "include_colab_link": true
    },
    "kernelspec": {
      "name": "python3",
      "display_name": "Python 3"
    },
    "language_info": {
      "name": "python"
    }
  },
  "cells": [
    {
      "cell_type": "markdown",
      "metadata": {
        "id": "view-in-github",
        "colab_type": "text"
      },
      "source": [
        "<a href=\"https://colab.research.google.com/github/kimjunwoo990330/Machine-Learning/blob/main/Machine_Learning_%EC%84%A0%ED%98%95%ED%9A%8C%EA%B7%80.ipynb\" target=\"_parent\"><img src=\"https://colab.research.google.com/assets/colab-badge.svg\" alt=\"Open In Colab\"/></a>"
      ]
    },
    {
      "cell_type": "markdown",
      "source": [
        "## 초기 설정"
      ],
      "metadata": {
        "id": "MfFXQoMOlrM4"
      }
    },
    {
      "cell_type": "markdown",
      "source": [
        "1. 설명 : 선형회귀 모델을 구축하여 통계적으로 해석\n",
        "2. 예측 : 새로운 입력데이터의 미래의 반응변수 값을 예측해보고 평가하기\n"
      ],
      "metadata": {
        "id": "i0fWrg2SvDfS"
      }
    },
    {
      "cell_type": "code",
      "source": [
        "import pandas as pd\n",
        "import numpy as np\n",
        "import scipy as sp\n",
        "import scipy.stats as stats\n",
        "#선형회귀에서 통계분석을 같이 하고 싶다면 statsmodels을 쓰는 것이 더 좋다.\n",
        "\n",
        "import statsmodels.api as sm\n",
        "from statsmodels.formula.api import ols\n",
        "\n",
        "from sklearn.model_selection import train_test_split\n",
        "from sklearn.metrics import mean_squared_error, mean_absolute_error\n",
        "\n",
        "import seaborn as sns # matplotlib 기반의 시각화 라이브러리이다. 유익한 통계 그래픽을 그리기 위한 고급 인터페이스를 제공한다.\n",
        "import matplotlib.pyplot as plt\n",
        "import matplotlib.font_manager as fm"
      ],
      "metadata": {
        "id": "9_H1KII7vLVZ"
      },
      "execution_count": null,
      "outputs": []
    },
    {
      "cell_type": "code",
      "source": [
        "#폰트 설정\n",
        "import sys\n",
        "if 'google.colab' in sys.modules:\n",
        "    !echo 'debconf debconf/frontend select Noninteractive'|debconf-set-selections\n",
        "\n",
        "    !sudo apt-get -qq -y install fonts-nanum\n",
        "    import matplotlib.font_manager as fm\n",
        "    font_files = fm.findSystemFonts(fontpaths=['/usr/share/fonts/truetype/nanum'])\n",
        "    for fpath in font_files:\n",
        "        fm.fontManager.addfont(fpath)\n",
        "plt.rcParams['font.family']='NanumGothic'"
      ],
      "metadata": {
        "id": "U9R-l-4YK2IW",
        "colab": {
          "base_uri": "https://localhost:8080/"
        },
        "outputId": "71f4ca9c-65cb-4c95-9756-4901b9137f5b"
      },
      "execution_count": null,
      "outputs": [
        {
          "output_type": "stream",
          "name": "stdout",
          "text": [
            "Selecting previously unselected package fonts-nanum.\n",
            "(Reading database ... 123071 files and directories currently installed.)\n",
            "Preparing to unpack .../fonts-nanum_20180306-3_all.deb ...\n",
            "Unpacking fonts-nanum (20180306-3) ...\n",
            "Setting up fonts-nanum (20180306-3) ...\n",
            "Processing triggers for fontconfig (2.13.1-2ubuntu3) ...\n"
          ]
        }
      ]
    },
    {
      "cell_type": "code",
      "source": [
        "#gdown을 이용하여 csv파일을 가져온다\n",
        "import gdown\n",
        "!gdown https://drive.google.com/uc?id=12kKrD3YwDkUEZQ7x401YobnH9w4PNJeG\n",
        "\n",
        "# 1978년 보스턴 주택 가격에 대한 데이터 추출\n",
        "df = pd.read_csv('Boston.csv',index_col=0)\n",
        "# 1행~13행까지의 입력데이터X 추출\n",
        "raw_df=df.iloc[:,:-1]\n",
        "raw_df.head()"
      ],
      "metadata": {
        "colab": {
          "base_uri": "https://localhost:8080/",
          "height": 278
        },
        "id": "XGR7_DYr59QB",
        "outputId": "e0f0c095-e426-4691-aee2-7e73ea07f904"
      },
      "execution_count": null,
      "outputs": [
        {
          "output_type": "stream",
          "name": "stdout",
          "text": [
            "Downloading...\n",
            "From: https://drive.google.com/uc?id=12kKrD3YwDkUEZQ7x401YobnH9w4PNJeG\n",
            "To: /content/Boston.csv\n",
            "\r  0% 0.00/37.7k [00:00<?, ?B/s]\r100% 37.7k/37.7k [00:00<00:00, 47.1MB/s]\n"
          ]
        },
        {
          "output_type": "execute_result",
          "data": {
            "text/plain": [
              "      crim    zn  indus  chas    nox     rm   age     dis  rad  tax  ptratio  \\\n",
              "1  0.00632  18.0   2.31     0  0.538  6.575  65.2  4.0900    1  296     15.3   \n",
              "2  0.02731   0.0   7.07     0  0.469  6.421  78.9  4.9671    2  242     17.8   \n",
              "3  0.02729   0.0   7.07     0  0.469  7.185  61.1  4.9671    2  242     17.8   \n",
              "4  0.03237   0.0   2.18     0  0.458  6.998  45.8  6.0622    3  222     18.7   \n",
              "5  0.06905   0.0   2.18     0  0.458  7.147  54.2  6.0622    3  222     18.7   \n",
              "\n",
              "    black  lstat  \n",
              "1  396.90   4.98  \n",
              "2  396.90   9.14  \n",
              "3  392.83   4.03  \n",
              "4  394.63   2.94  \n",
              "5  396.90   5.33  "
            ],
            "text/html": [
              "\n",
              "  <div id=\"df-c62af3ea-6b09-47a2-a4c9-c18f8d4e579e\">\n",
              "    <div class=\"colab-df-container\">\n",
              "      <div>\n",
              "<style scoped>\n",
              "    .dataframe tbody tr th:only-of-type {\n",
              "        vertical-align: middle;\n",
              "    }\n",
              "\n",
              "    .dataframe tbody tr th {\n",
              "        vertical-align: top;\n",
              "    }\n",
              "\n",
              "    .dataframe thead th {\n",
              "        text-align: right;\n",
              "    }\n",
              "</style>\n",
              "<table border=\"1\" class=\"dataframe\">\n",
              "  <thead>\n",
              "    <tr style=\"text-align: right;\">\n",
              "      <th></th>\n",
              "      <th>crim</th>\n",
              "      <th>zn</th>\n",
              "      <th>indus</th>\n",
              "      <th>chas</th>\n",
              "      <th>nox</th>\n",
              "      <th>rm</th>\n",
              "      <th>age</th>\n",
              "      <th>dis</th>\n",
              "      <th>rad</th>\n",
              "      <th>tax</th>\n",
              "      <th>ptratio</th>\n",
              "      <th>black</th>\n",
              "      <th>lstat</th>\n",
              "    </tr>\n",
              "  </thead>\n",
              "  <tbody>\n",
              "    <tr>\n",
              "      <th>1</th>\n",
              "      <td>0.00632</td>\n",
              "      <td>18.0</td>\n",
              "      <td>2.31</td>\n",
              "      <td>0</td>\n",
              "      <td>0.538</td>\n",
              "      <td>6.575</td>\n",
              "      <td>65.2</td>\n",
              "      <td>4.0900</td>\n",
              "      <td>1</td>\n",
              "      <td>296</td>\n",
              "      <td>15.3</td>\n",
              "      <td>396.90</td>\n",
              "      <td>4.98</td>\n",
              "    </tr>\n",
              "    <tr>\n",
              "      <th>2</th>\n",
              "      <td>0.02731</td>\n",
              "      <td>0.0</td>\n",
              "      <td>7.07</td>\n",
              "      <td>0</td>\n",
              "      <td>0.469</td>\n",
              "      <td>6.421</td>\n",
              "      <td>78.9</td>\n",
              "      <td>4.9671</td>\n",
              "      <td>2</td>\n",
              "      <td>242</td>\n",
              "      <td>17.8</td>\n",
              "      <td>396.90</td>\n",
              "      <td>9.14</td>\n",
              "    </tr>\n",
              "    <tr>\n",
              "      <th>3</th>\n",
              "      <td>0.02729</td>\n",
              "      <td>0.0</td>\n",
              "      <td>7.07</td>\n",
              "      <td>0</td>\n",
              "      <td>0.469</td>\n",
              "      <td>7.185</td>\n",
              "      <td>61.1</td>\n",
              "      <td>4.9671</td>\n",
              "      <td>2</td>\n",
              "      <td>242</td>\n",
              "      <td>17.8</td>\n",
              "      <td>392.83</td>\n",
              "      <td>4.03</td>\n",
              "    </tr>\n",
              "    <tr>\n",
              "      <th>4</th>\n",
              "      <td>0.03237</td>\n",
              "      <td>0.0</td>\n",
              "      <td>2.18</td>\n",
              "      <td>0</td>\n",
              "      <td>0.458</td>\n",
              "      <td>6.998</td>\n",
              "      <td>45.8</td>\n",
              "      <td>6.0622</td>\n",
              "      <td>3</td>\n",
              "      <td>222</td>\n",
              "      <td>18.7</td>\n",
              "      <td>394.63</td>\n",
              "      <td>2.94</td>\n",
              "    </tr>\n",
              "    <tr>\n",
              "      <th>5</th>\n",
              "      <td>0.06905</td>\n",
              "      <td>0.0</td>\n",
              "      <td>2.18</td>\n",
              "      <td>0</td>\n",
              "      <td>0.458</td>\n",
              "      <td>7.147</td>\n",
              "      <td>54.2</td>\n",
              "      <td>6.0622</td>\n",
              "      <td>3</td>\n",
              "      <td>222</td>\n",
              "      <td>18.7</td>\n",
              "      <td>396.90</td>\n",
              "      <td>5.33</td>\n",
              "    </tr>\n",
              "  </tbody>\n",
              "</table>\n",
              "</div>\n",
              "      <button class=\"colab-df-convert\" onclick=\"convertToInteractive('df-c62af3ea-6b09-47a2-a4c9-c18f8d4e579e')\"\n",
              "              title=\"Convert this dataframe to an interactive table.\"\n",
              "              style=\"display:none;\">\n",
              "        \n",
              "  <svg xmlns=\"http://www.w3.org/2000/svg\" height=\"24px\"viewBox=\"0 0 24 24\"\n",
              "       width=\"24px\">\n",
              "    <path d=\"M0 0h24v24H0V0z\" fill=\"none\"/>\n",
              "    <path d=\"M18.56 5.44l.94 2.06.94-2.06 2.06-.94-2.06-.94-.94-2.06-.94 2.06-2.06.94zm-11 1L8.5 8.5l.94-2.06 2.06-.94-2.06-.94L8.5 2.5l-.94 2.06-2.06.94zm10 10l.94 2.06.94-2.06 2.06-.94-2.06-.94-.94-2.06-.94 2.06-2.06.94z\"/><path d=\"M17.41 7.96l-1.37-1.37c-.4-.4-.92-.59-1.43-.59-.52 0-1.04.2-1.43.59L10.3 9.45l-7.72 7.72c-.78.78-.78 2.05 0 2.83L4 21.41c.39.39.9.59 1.41.59.51 0 1.02-.2 1.41-.59l7.78-7.78 2.81-2.81c.8-.78.8-2.07 0-2.86zM5.41 20L4 18.59l7.72-7.72 1.47 1.35L5.41 20z\"/>\n",
              "  </svg>\n",
              "      </button>\n",
              "      \n",
              "  <style>\n",
              "    .colab-df-container {\n",
              "      display:flex;\n",
              "      flex-wrap:wrap;\n",
              "      gap: 12px;\n",
              "    }\n",
              "\n",
              "    .colab-df-convert {\n",
              "      background-color: #E8F0FE;\n",
              "      border: none;\n",
              "      border-radius: 50%;\n",
              "      cursor: pointer;\n",
              "      display: none;\n",
              "      fill: #1967D2;\n",
              "      height: 32px;\n",
              "      padding: 0 0 0 0;\n",
              "      width: 32px;\n",
              "    }\n",
              "\n",
              "    .colab-df-convert:hover {\n",
              "      background-color: #E2EBFA;\n",
              "      box-shadow: 0px 1px 2px rgba(60, 64, 67, 0.3), 0px 1px 3px 1px rgba(60, 64, 67, 0.15);\n",
              "      fill: #174EA6;\n",
              "    }\n",
              "\n",
              "    [theme=dark] .colab-df-convert {\n",
              "      background-color: #3B4455;\n",
              "      fill: #D2E3FC;\n",
              "    }\n",
              "\n",
              "    [theme=dark] .colab-df-convert:hover {\n",
              "      background-color: #434B5C;\n",
              "      box-shadow: 0px 1px 3px 1px rgba(0, 0, 0, 0.15);\n",
              "      filter: drop-shadow(0px 1px 2px rgba(0, 0, 0, 0.3));\n",
              "      fill: #FFFFFF;\n",
              "    }\n",
              "  </style>\n",
              "\n",
              "      <script>\n",
              "        const buttonEl =\n",
              "          document.querySelector('#df-c62af3ea-6b09-47a2-a4c9-c18f8d4e579e button.colab-df-convert');\n",
              "        buttonEl.style.display =\n",
              "          google.colab.kernel.accessAllowed ? 'block' : 'none';\n",
              "\n",
              "        async function convertToInteractive(key) {\n",
              "          const element = document.querySelector('#df-c62af3ea-6b09-47a2-a4c9-c18f8d4e579e');\n",
              "          const dataTable =\n",
              "            await google.colab.kernel.invokeFunction('convertToInteractive',\n",
              "                                                     [key], {});\n",
              "          if (!dataTable) return;\n",
              "\n",
              "          const docLinkHtml = 'Like what you see? Visit the ' +\n",
              "            '<a target=\"_blank\" href=https://colab.research.google.com/notebooks/data_table.ipynb>data table notebook</a>'\n",
              "            + ' to learn more about interactive tables.';\n",
              "          element.innerHTML = '';\n",
              "          dataTable['output_type'] = 'display_data';\n",
              "          await google.colab.output.renderOutput(dataTable, element);\n",
              "          const docLink = document.createElement('div');\n",
              "          docLink.innerHTML = docLinkHtml;\n",
              "          element.appendChild(docLink);\n",
              "        }\n",
              "      </script>\n",
              "    </div>\n",
              "  </div>\n",
              "  "
            ]
          },
          "metadata": {},
          "execution_count": 3
        }
      ]
    },
    {
      "cell_type": "code",
      "source": [
        "# 14행의 타겟데이터Y 추출\n",
        "target=df.iloc[:,-1]\n",
        "target=pd.DataFrame(target,columns=['medv'])"
      ],
      "metadata": {
        "id": "VKQvyTgc0apB"
      },
      "execution_count": null,
      "outputs": []
    },
    {
      "cell_type": "code",
      "source": [
        "target.head()"
      ],
      "metadata": {
        "colab": {
          "base_uri": "https://localhost:8080/",
          "height": 206
        },
        "id": "Y85D3dt_-RF2",
        "outputId": "92da37fb-b6dd-46b6-cd7d-22d6b6da83ad"
      },
      "execution_count": null,
      "outputs": [
        {
          "output_type": "execute_result",
          "data": {
            "text/plain": [
              "   medv\n",
              "1  24.0\n",
              "2  21.6\n",
              "3  34.7\n",
              "4  33.4\n",
              "5  36.2"
            ],
            "text/html": [
              "\n",
              "  <div id=\"df-6ff2e791-ef12-483c-b7e1-ce9e240789b8\">\n",
              "    <div class=\"colab-df-container\">\n",
              "      <div>\n",
              "<style scoped>\n",
              "    .dataframe tbody tr th:only-of-type {\n",
              "        vertical-align: middle;\n",
              "    }\n",
              "\n",
              "    .dataframe tbody tr th {\n",
              "        vertical-align: top;\n",
              "    }\n",
              "\n",
              "    .dataframe thead th {\n",
              "        text-align: right;\n",
              "    }\n",
              "</style>\n",
              "<table border=\"1\" class=\"dataframe\">\n",
              "  <thead>\n",
              "    <tr style=\"text-align: right;\">\n",
              "      <th></th>\n",
              "      <th>medv</th>\n",
              "    </tr>\n",
              "  </thead>\n",
              "  <tbody>\n",
              "    <tr>\n",
              "      <th>1</th>\n",
              "      <td>24.0</td>\n",
              "    </tr>\n",
              "    <tr>\n",
              "      <th>2</th>\n",
              "      <td>21.6</td>\n",
              "    </tr>\n",
              "    <tr>\n",
              "      <th>3</th>\n",
              "      <td>34.7</td>\n",
              "    </tr>\n",
              "    <tr>\n",
              "      <th>4</th>\n",
              "      <td>33.4</td>\n",
              "    </tr>\n",
              "    <tr>\n",
              "      <th>5</th>\n",
              "      <td>36.2</td>\n",
              "    </tr>\n",
              "  </tbody>\n",
              "</table>\n",
              "</div>\n",
              "      <button class=\"colab-df-convert\" onclick=\"convertToInteractive('df-6ff2e791-ef12-483c-b7e1-ce9e240789b8')\"\n",
              "              title=\"Convert this dataframe to an interactive table.\"\n",
              "              style=\"display:none;\">\n",
              "        \n",
              "  <svg xmlns=\"http://www.w3.org/2000/svg\" height=\"24px\"viewBox=\"0 0 24 24\"\n",
              "       width=\"24px\">\n",
              "    <path d=\"M0 0h24v24H0V0z\" fill=\"none\"/>\n",
              "    <path d=\"M18.56 5.44l.94 2.06.94-2.06 2.06-.94-2.06-.94-.94-2.06-.94 2.06-2.06.94zm-11 1L8.5 8.5l.94-2.06 2.06-.94-2.06-.94L8.5 2.5l-.94 2.06-2.06.94zm10 10l.94 2.06.94-2.06 2.06-.94-2.06-.94-.94-2.06-.94 2.06-2.06.94z\"/><path d=\"M17.41 7.96l-1.37-1.37c-.4-.4-.92-.59-1.43-.59-.52 0-1.04.2-1.43.59L10.3 9.45l-7.72 7.72c-.78.78-.78 2.05 0 2.83L4 21.41c.39.39.9.59 1.41.59.51 0 1.02-.2 1.41-.59l7.78-7.78 2.81-2.81c.8-.78.8-2.07 0-2.86zM5.41 20L4 18.59l7.72-7.72 1.47 1.35L5.41 20z\"/>\n",
              "  </svg>\n",
              "      </button>\n",
              "      \n",
              "  <style>\n",
              "    .colab-df-container {\n",
              "      display:flex;\n",
              "      flex-wrap:wrap;\n",
              "      gap: 12px;\n",
              "    }\n",
              "\n",
              "    .colab-df-convert {\n",
              "      background-color: #E8F0FE;\n",
              "      border: none;\n",
              "      border-radius: 50%;\n",
              "      cursor: pointer;\n",
              "      display: none;\n",
              "      fill: #1967D2;\n",
              "      height: 32px;\n",
              "      padding: 0 0 0 0;\n",
              "      width: 32px;\n",
              "    }\n",
              "\n",
              "    .colab-df-convert:hover {\n",
              "      background-color: #E2EBFA;\n",
              "      box-shadow: 0px 1px 2px rgba(60, 64, 67, 0.3), 0px 1px 3px 1px rgba(60, 64, 67, 0.15);\n",
              "      fill: #174EA6;\n",
              "    }\n",
              "\n",
              "    [theme=dark] .colab-df-convert {\n",
              "      background-color: #3B4455;\n",
              "      fill: #D2E3FC;\n",
              "    }\n",
              "\n",
              "    [theme=dark] .colab-df-convert:hover {\n",
              "      background-color: #434B5C;\n",
              "      box-shadow: 0px 1px 3px 1px rgba(0, 0, 0, 0.15);\n",
              "      filter: drop-shadow(0px 1px 2px rgba(0, 0, 0, 0.3));\n",
              "      fill: #FFFFFF;\n",
              "    }\n",
              "  </style>\n",
              "\n",
              "      <script>\n",
              "        const buttonEl =\n",
              "          document.querySelector('#df-6ff2e791-ef12-483c-b7e1-ce9e240789b8 button.colab-df-convert');\n",
              "        buttonEl.style.display =\n",
              "          google.colab.kernel.accessAllowed ? 'block' : 'none';\n",
              "\n",
              "        async function convertToInteractive(key) {\n",
              "          const element = document.querySelector('#df-6ff2e791-ef12-483c-b7e1-ce9e240789b8');\n",
              "          const dataTable =\n",
              "            await google.colab.kernel.invokeFunction('convertToInteractive',\n",
              "                                                     [key], {});\n",
              "          if (!dataTable) return;\n",
              "\n",
              "          const docLinkHtml = 'Like what you see? Visit the ' +\n",
              "            '<a target=\"_blank\" href=https://colab.research.google.com/notebooks/data_table.ipynb>data table notebook</a>'\n",
              "            + ' to learn more about interactive tables.';\n",
              "          element.innerHTML = '';\n",
              "          dataTable['output_type'] = 'display_data';\n",
              "          await google.colab.output.renderOutput(dataTable, element);\n",
              "          const docLink = document.createElement('div');\n",
              "          docLink.innerHTML = docLinkHtml;\n",
              "          element.appendChild(docLink);\n",
              "        }\n",
              "      </script>\n",
              "    </div>\n",
              "  </div>\n",
              "  "
            ]
          },
          "metadata": {},
          "execution_count": 5
        }
      ]
    },
    {
      "cell_type": "markdown",
      "source": [
        "## 선형회귀 모델 구축하기"
      ],
      "metadata": {
        "id": "AN63IG3V_vCe"
      }
    },
    {
      "cell_type": "code",
      "source": [
        "# 훈련에 사용할 데이터 X, 테스트에 사용할 데이터 Y를 나눈다.\n",
        "x_train,x_test,y_train,y_test=train_test_split(raw_df,target,test_size=0.2,random_state=2021)"
      ],
      "metadata": {
        "id": "5bddU7-M_11c"
      },
      "execution_count": null,
      "outputs": []
    },
    {
      "cell_type": "markdown",
      "source": [
        "statsmodels의 OLS를 사용하여 선형화귀분석 시행\n",
        "\n",
        "OLS : Ordinary Least Squares\n",
        "\n",
        "잔차제곱합을 최소화하는 가중치(파라미터)를 구하는 방법\n",
        "\n",
        "선형회귀모델 구축하고  선형회귀 모델의 가정이 성립하는가를 확인한다.\n",
        "\n",
        "확률오차의 정규성과 등분산성을 확인해야한다."
      ],
      "metadata": {
        "id": "zgdIJj92AdYI"
      }
    },
    {
      "cell_type": "code",
      "source": [
        "#절편을 추가한다.\n",
        "train_input=sm.add_constant(x_train)\n",
        "\n",
        "#OLS를 이용하여 모델을 구축\n",
        "model=sm.OLS(y_train,x_train,axis=1)\n",
        "\n",
        "#구축한 모델을 훈련한다.\n",
        "model_trained=model.fit()"
      ],
      "metadata": {
        "colab": {
          "base_uri": "https://localhost:8080/"
        },
        "id": "gUzU25EOATrZ",
        "outputId": "d2999d29-afca-4e71-88bf-04440ff5e8dc"
      },
      "execution_count": null,
      "outputs": [
        {
          "output_type": "stream",
          "name": "stderr",
          "text": [
            "/usr/local/lib/python3.10/dist-packages/statsmodels/base/model.py:127: ValueWarning: unknown kwargs ['axis']\n",
            "  warnings.warn(msg, ValueWarning)\n"
          ]
        }
      ]
    },
    {
      "cell_type": "markdown",
      "source": [
        "# 확률오차의 정규성 확인\n"
      ],
      "metadata": {
        "id": "746WSdQpBg9t"
      }
    },
    {
      "cell_type": "markdown",
      "source": [
        "선형회귀 모델의 가정에 충족하는지 확인을 먼저 한다.\n",
        "\n",
        "따라서 확률오차의 정규성과 등분산성을 확인한다."
      ],
      "metadata": {
        "id": "yQOs9E8DorMb"
      }
    },
    {
      "cell_type": "code",
      "source": [
        "model_residuals=model_trained.resid # model.resid는 각 항의 예측값과 실제값의 오차를 Series형태로 출력해주는 함수이다.\n",
        "plt.rcParams['axes.unicode_minus']=False # plt의 기본 파라미터를 변경하여 음수 폰트 깨짐을 방지한다.\n",
        "\n",
        "fig,ax=plt.subplots(1,1) # 1행 1열을 가진 서브플롯을 그린다\n",
        "fig.set_figheight(12)\n",
        "fig.set_figwidth(12)\n",
        "\n",
        "#두 변수간의 분포를 비교한다, 주어진데이터와 정규분포를 비교하여 정규분포의 가정이 적절한지에 대해 검토할 때 활용\n",
        "sm.ProbPlot(model_residuals).qqplot(line='s',color='b',ax=ax)\n",
        "ax.title.set_text('QQ Plot')\n",
        "plt.show()"
      ],
      "metadata": {
        "colab": {
          "base_uri": "https://localhost:8080/",
          "height": 1000
        },
        "id": "AiwVMnmYBFd_",
        "outputId": "7144e894-4230-4a40-82a1-5e2ad7d08437"
      },
      "execution_count": null,
      "outputs": [
        {
          "output_type": "stream",
          "name": "stderr",
          "text": [
            "/usr/local/lib/python3.10/dist-packages/statsmodels/graphics/gofplots.py:1045: UserWarning: color is redundantly defined by the 'color' keyword argument and the fmt string \"b\" (-> color=(0.0, 0.0, 1.0, 1)). The keyword argument will take precedence.\n",
            "  ax.plot(x, y, fmt, **plot_style)\n"
          ]
        },
        {
          "output_type": "display_data",
          "data": {
            "text/plain": [
              "<Figure size 1200x1200 with 1 Axes>"
            ],
            "image/png": "[encoded data removed]"
          },
          "metadata": {}
        }
      ]
    },
    {
      "cell_type": "markdown",
      "source": [
        "# 확률오차의 등분산성 확인"
      ],
      "metadata": {
        "id": "MjKpYGywDm2t"
      }
    },
    {
      "cell_type": "code",
      "source": [
        "#fittedvalues 메서드는 예측된 종속 변수의 추정치를 반환한다. 주어진 독립 변수에 대해 모델이 예측한 종속 변수의 값을 나타낸다.\n",
        "model_fitted_y=model_trained.fittedvalues\n",
        "\n",
        "fig,ax = plt.subplots(1,1)\n",
        "fig.set_figheight(8)\n",
        "fig.set_figwidth(12)\n",
        "\n",
        "#회귀선을 기준으로 데이터들의 오차를 나타낸 그래프\n",
        "sns.residplot(x=model_fitted_y,y=y_train,data=x_train,lowess=True,scatter_kws={'alpha':0.5},line_kws={'color':'red'},ax=ax)\n",
        "\n",
        "# x축 추정치, y축 잔차\n",
        "ax.title.set_text('Residuals vs Fitted')\n",
        "ax.set(xlabel='Fitted values',ylabel='Residuals')"
      ],
      "metadata": {
        "colab": {
          "base_uri": "https://localhost:8080/",
          "height": 947
        },
        "id": "AWqSKmw0CMui",
        "outputId": "11232883-4b3a-4846-e833-a12b127212db"
      },
      "execution_count": null,
      "outputs": [
        {
          "output_type": "stream",
          "name": "stdout",
          "text": [
            "<bound method NDFrame.head of 29     21.958043\n",
            "499    21.495021\n",
            "285    31.867683\n",
            "415    -6.728442\n",
            "124    15.333261\n",
            "         ...    \n",
            "110    20.823494\n",
            "129    21.368144\n",
            "58     32.794045\n",
            "342    31.065462\n",
            "117    22.694021\n",
            "Length: 404, dtype: float64>\n"
          ]
        },
        {
          "output_type": "execute_result",
          "data": {
            "text/plain": [
              "[Text(0.5, 0, 'Fitted values'), Text(0, 0.5, 'Residuals')]"
            ]
          },
          "metadata": {},
          "execution_count": 10
        },
        {
          "output_type": "display_data",
          "data": {
            "text/plain": [
              "<Figure size 1200x800 with 1 Axes>"
            ],
            "image/png": "[encoded data removed]"
          },
          "metadata": {}
        }
      ]
    },
    {
      "cell_type": "markdown",
      "source": [
        "# 설명 : 통계적으로 해석하기\n",
        "\n",
        "R-squared(결정계수) : 모델의 성능\n",
        "\n",
        "coef(회귀계수)\n",
        "\n",
        "P-value가 0.05 이하일 때 변수가 유의미 (분산분석은 궁극적으로 가설검정을 행하는 용도)\n",
        "\n",
        "유의미하지 않은 변수는 제거한다."
      ],
      "metadata": {
        "id": "xPqPtoorHYjc"
      }
    },
    {
      "cell_type": "code",
      "source": [
        "#다양한 통계량을 알려주는 summary\n",
        "print(model_trained.summary())"
      ],
      "metadata": {
        "colab": {
          "base_uri": "https://localhost:8080/"
        },
        "id": "oTWBnoa-DzyW",
        "outputId": "c67bcbcf-a066-4db0-a530-6c8727a71167"
      },
      "execution_count": null,
      "outputs": [
        {
          "output_type": "stream",
          "name": "stdout",
          "text": [
            "                                 OLS Regression Results                                \n",
            "=======================================================================================\n",
            "Dep. Variable:                   medv   R-squared (uncentered):                   0.960\n",
            "Model:                            OLS   Adj. R-squared (uncentered):              0.959\n",
            "Method:                 Least Squares   F-statistic:                              723.4\n",
            "Date:                Thu, 06 Jul 2023   Prob (F-statistic):                   4.08e-264\n",
            "Time:                        09:47:50   Log-Likelihood:                         -1214.1\n",
            "No. Observations:                 404   AIC:                                      2454.\n",
            "Df Residuals:                     391   BIC:                                      2506.\n",
            "Df Model:                          13                                                  \n",
            "Covariance Type:            nonrobust                                                  \n",
            "==============================================================================\n",
            "                 coef    std err          t      P>|t|      [0.025      0.975]\n",
            "------------------------------------------------------------------------------\n",
            "crim          -0.1016      0.035     -2.911      0.004      -0.170      -0.033\n",
            "zn             0.0543      0.016      3.411      0.001       0.023       0.086\n",
            "indus         -0.0306      0.071     -0.429      0.668      -0.171       0.109\n",
            "chas           3.5489      1.057      3.357      0.001       1.470       5.628\n",
            "nox           -3.6282      3.599     -1.008      0.314     -10.704       3.447\n",
            "rm             5.8994      0.344     17.151      0.000       5.223       6.576\n",
            "age            0.0016      0.016      0.097      0.923      -0.030       0.033\n",
            "dis           -1.0720      0.223     -4.797      0.000      -1.511      -0.633\n",
            "rad            0.2199      0.072      3.070      0.002       0.079       0.361\n",
            "tax           -0.0093      0.004     -2.192      0.029      -0.018      -0.001\n",
            "ptratio       -0.3451      0.125     -2.771      0.006      -0.590      -0.100\n",
            "black          0.0150      0.003      5.119      0.000       0.009       0.021\n",
            "lstat         -0.4738      0.059     -8.096      0.000      -0.589      -0.359\n",
            "==============================================================================\n",
            "Omnibus:                      162.276   Durbin-Watson:                   1.868\n",
            "Prob(Omnibus):                  0.000   Jarque-Bera (JB):              894.861\n",
            "Skew:                           1.633   Prob(JB):                    4.82e-195\n",
            "Kurtosis:                       9.519   Cond. No.                     8.24e+03\n",
            "==============================================================================\n",
            "\n",
            "Notes:\n",
            "[1] R² is computed without centering (uncentered) since the model does not contain a constant.\n",
            "[2] Standard Errors assume that the covariance matrix of the errors is correctly specified.\n",
            "[3] The condition number is large, 8.24e+03. This might indicate that there are\n",
            "strong multicollinearity or other numerical problems.\n"
          ]
        }
      ]
    },
    {
      "cell_type": "markdown",
      "source": [
        "summary 값을 통해 데이터와 모델에 대해 설명할 수 있다."
      ],
      "metadata": {
        "id": "5oiRzMbKIFMw"
      }
    },
    {
      "cell_type": "markdown",
      "source": [
        "P-value 값이 높은 유의하지 않은 변수들 제거하고 다시 모델을 구축한다"
      ],
      "metadata": {
        "id": "VcudGgbOIPzp"
      }
    },
    {
      "cell_type": "code",
      "source": [
        "#유의하지 않은 indus와 age를 제거한 데이터로 다시 모델을 구축\n",
        "model=sm.OLS(y_train,x_train.drop(['indus','age'],axis=1))\n",
        "model_trained=model.fit()\n",
        "print(model_trained.summary())"
      ],
      "metadata": {
        "colab": {
          "base_uri": "https://localhost:8080/"
        },
        "id": "uNtNH7M7ISmD",
        "outputId": "14fcbc7f-e05e-4c7f-d6ed-7cff728018cf"
      },
      "execution_count": null,
      "outputs": [
        {
          "output_type": "stream",
          "name": "stdout",
          "text": [
            "                                 OLS Regression Results                                \n",
            "=======================================================================================\n",
            "Dep. Variable:                   medv   R-squared (uncentered):                   0.960\n",
            "Model:                            OLS   Adj. R-squared (uncentered):              0.959\n",
            "Method:                 Least Squares   F-statistic:                              858.9\n",
            "Date:                Thu, 06 Jul 2023   Prob (F-statistic):                   5.23e-267\n",
            "Time:                        14:52:29   Log-Likelihood:                         -1214.2\n",
            "No. Observations:                 404   AIC:                                      2450.\n",
            "Df Residuals:                     393   BIC:                                      2494.\n",
            "Df Model:                          11                                                  \n",
            "Covariance Type:            nonrobust                                                  \n",
            "==============================================================================\n",
            "                 coef    std err          t      P>|t|      [0.025      0.975]\n",
            "------------------------------------------------------------------------------\n",
            "crim          -0.1009      0.035     -2.903      0.004      -0.169      -0.033\n",
            "zn             0.0547      0.016      3.467      0.001       0.024       0.086\n",
            "chas           3.5134      1.050      3.345      0.001       1.449       5.578\n",
            "nox           -3.9582      3.322     -1.192      0.234     -10.489       2.573\n",
            "rm             5.9325      0.329     18.029      0.000       5.286       6.579\n",
            "dis           -1.0540      0.197     -5.355      0.000      -1.441      -0.667\n",
            "rad            0.2285      0.068      3.337      0.001       0.094       0.363\n",
            "tax           -0.0101      0.004     -2.673      0.008      -0.017      -0.003\n",
            "ptratio       -0.3510      0.123     -2.854      0.005      -0.593      -0.109\n",
            "black          0.0151      0.003      5.168      0.000       0.009       0.021\n",
            "lstat         -0.4735      0.054     -8.714      0.000      -0.580      -0.367\n",
            "==============================================================================\n",
            "Omnibus:                      163.214   Durbin-Watson:                   1.874\n",
            "Prob(Omnibus):                  0.000   Jarque-Bera (JB):              906.565\n",
            "Skew:                           1.641   Prob(JB):                    1.39e-197\n",
            "Kurtosis:                       9.563   Cond. No.                     7.57e+03\n",
            "==============================================================================\n",
            "\n",
            "Notes:\n",
            "[1] R² is computed without centering (uncentered) since the model does not contain a constant.\n",
            "[2] Standard Errors assume that the covariance matrix of the errors is correctly specified.\n",
            "[3] The condition number is large, 7.57e+03. This might indicate that there are\n",
            "strong multicollinearity or other numerical problems.\n"
          ]
        }
      ]
    },
    {
      "cell_type": "code",
      "source": [
        "#새로만든 모델의 추정값 반환\n",
        "y_train_pred=model_trained.fittedvalues\n",
        "\n",
        "plt.figure(figsize=(8,8))\n",
        "plt.title('실제값 vs 모델 출력 값')\n",
        "plt.scatter(y_train,y_train_pred)\n",
        "plt.plot([-5,55],[-5,55],linestyle='--',color='r',alpha=0.5)\n",
        "plt.xlabel('실제값',size=16)\n",
        "plt.ylabel('모델 출력 값', size =16)\n",
        "plt.xlim(-5,55)\n",
        "plt.ylim(-5,55)\n",
        "plt.show()"
      ],
      "metadata": {
        "colab": {
          "base_uri": "https://localhost:8080/",
          "height": 723
        },
        "id": "6gWFGq6YIm6F",
        "outputId": "0d3b2daa-be15-4686-9f17-8758cae0d1bc"
      },
      "execution_count": null,
      "outputs": [
        {
          "output_type": "display_data",
          "data": {
            "text/plain": [
              "<Figure size 800x800 with 1 Axes>"
            ],
            "image/png": "[encoded data removed]"
          },
          "metadata": {}
        }
      ]
    },
    {
      "cell_type": "markdown",
      "source": [
        "트레인세트에 대해 정상적으로 되었으니 테스트 셋에 대해서 해보면"
      ],
      "metadata": {
        "id": "WhUweeVqMYBH"
      }
    },
    {
      "cell_type": "code",
      "source": [
        "#predict method를 이용하여 x_test의 값을 예측\n",
        "y_test_pred=model_trained.predict(x_test.drop(['indus','age'],axis=1))\n",
        "y_test_pred.head()"
      ],
      "metadata": {
        "colab": {
          "base_uri": "https://localhost:8080/"
        },
        "id": "Wwp0E0wmMyqm",
        "outputId": "10792200-f605-43ed-fb04-2a9976b0ca12"
      },
      "execution_count": null,
      "outputs": [
        {
          "output_type": "execute_result",
          "data": {
            "text/plain": [
              "211    22.180420\n",
              "25     16.981775\n",
              "37     20.991506\n",
              "440    14.429330\n",
              "162    36.561694\n",
              "dtype: float64"
            ]
          },
          "metadata": {},
          "execution_count": 14
        }
      ]
    },
    {
      "cell_type": "markdown",
      "source": [
        "# 모델 평가에 사용되는 지표들, 비용 함수"
      ],
      "metadata": {
        "id": "icb-M3xrhM65"
      }
    },
    {
      "cell_type": "code",
      "source": [
        "#Mean Squared Error (평균 제곱 오차)\n",
        "print(mean_squared_error(y_test,y_test_pred))"
      ],
      "metadata": {
        "colab": {
          "base_uri": "https://localhost:8080/"
        },
        "id": "OeQv_f9dPiJB",
        "outputId": "10fb4feb-c739-4826-85cd-1fd8fa404c5a"
      },
      "execution_count": null,
      "outputs": [
        {
          "output_type": "stream",
          "name": "stdout",
          "text": [
            "26.551373033308206\n"
          ]
        }
      ]
    },
    {
      "cell_type": "code",
      "source": [
        "#Root Mean Squared Error (제곱근 평균 제곱 오차)\n",
        "print(np.sqrt(mean_squared_error(y_test,y_test_pred)))"
      ],
      "metadata": {
        "colab": {
          "base_uri": "https://localhost:8080/"
        },
        "id": "hEqqnouqXzxK",
        "outputId": "6eec2d34-d28b-45e7-bc50-6ab899ea31ee"
      },
      "execution_count": null,
      "outputs": [
        {
          "output_type": "stream",
          "name": "stdout",
          "text": [
            "5.152802444622558\n"
          ]
        }
      ]
    },
    {
      "cell_type": "code",
      "source": [
        "#Mean Absolute Percentage Error (평균 절대 오차)\n",
        "print(mean_absolute_error(y_test,y_test_pred))"
      ],
      "metadata": {
        "colab": {
          "base_uri": "https://localhost:8080/"
        },
        "id": "I-4wNf9Pc0X_",
        "outputId": "e5824973-8cd8-4fc1-97c6-b363e573fc4d"
      },
      "execution_count": null,
      "outputs": [
        {
          "output_type": "stream",
          "name": "stdout",
          "text": [
            "3.515344686258347\n"
          ]
        }
      ]
    },
    {
      "cell_type": "code",
      "source": [
        "#Mean Absolute Percentage Error (평균 절대 백분율 오차)\n",
        "def mean_absolute_percentage_error(y_true,y_pred):\n",
        "    y_true,y_pred=np.array(y_true),np.array(y_pred)\n",
        "    return np.mean(np.abs((y_true-y_pred)/y_true))*100\n",
        "print(mean_absolute_percentage_error(y_test,y_test_pred))"
      ],
      "metadata": {
        "colab": {
          "base_uri": "https://localhost:8080/"
        },
        "id": "qMVGNCREdGid",
        "outputId": "2eea5bcb-9b6a-494a-d2fe-8815f335da22"
      },
      "execution_count": null,
      "outputs": [
        {
          "output_type": "stream",
          "name": "stdout",
          "text": [
            "43.86549288919351\n"
          ]
        }
      ]
    },
    {
      "cell_type": "markdown",
      "source": [
        "비용함수가 작을 수록 더 좋은 모델이다. ( 파라미터들이 최적값)\n",
        "\n",
        "\n",
        "어떤 모델이 더 좋은지 판단의 기준에 사용 되는 지표들이다."
      ],
      "metadata": {
        "id": "B5ImGLQyYYT5"
      }
    },
    {
      "cell_type": "code",
      "source": [
        "#결정계수\n",
        "from sklearn.metrics import r2_score\n",
        "print(r2_score(y_test,y_test_pred))"
      ],
      "metadata": {
        "colab": {
          "base_uri": "https://localhost:8080/"
        },
        "id": "QgbqbGnuYbg3",
        "outputId": "78f3ad93-6900-43ea-894e-cc8f7d91176c"
      },
      "execution_count": null,
      "outputs": [
        {
          "output_type": "stream",
          "name": "stdout",
          "text": [
            "0.5843314211390356\n"
          ]
        }
      ]
    },
    {
      "cell_type": "markdown",
      "source": [
        "# 최종 결과정리"
      ],
      "metadata": {
        "id": "eWePzesseD8U"
      }
    },
    {
      "cell_type": "code",
      "source": [
        "#훈련세트에 대한 값들\n",
        "print('Training MSE : {:.3f}'.format(mean_squared_error(y_train,y_train_pred)))\n",
        "print('Training RMSE : {:.3f}'.format(np.sqrt(mean_squared_error(y_train,y_train_pred))))\n",
        "print('Training MAE : {:.3f}'.format(mean_absolute_error(y_train,y_train_pred)))\n",
        "print('Training MAPE : {:.3f}'.format(mean_absolute_percentage_error(y_train,y_train_pred)))\n",
        "print('Training R2 : {:.3f}'.format(r2_score(y_train,y_train_pred)))"
      ],
      "metadata": {
        "colab": {
          "base_uri": "https://localhost:8080/"
        },
        "id": "2gy4_wsndzQ7",
        "outputId": "0b6c9895-7bf2-4969-91a4-3cd107df4111"
      },
      "execution_count": null,
      "outputs": [
        {
          "output_type": "stream",
          "name": "stdout",
          "text": [
            "Training MSE : 23.883\n",
            "Training RMSE : 4.887\n",
            "Training MAE : 3.344\n",
            "Training MAPE : 50.994\n",
            "Training R2 : 0.733\n"
          ]
        }
      ]
    },
    {
      "cell_type": "code",
      "source": [
        "#평가세트에 대한 값들\n",
        "print('Testing MSE : {:.3f}'.format(mean_squared_error(y_test,y_test_pred)))\n",
        "print('Testing RMSE : {:.3f}'.format(np.sqrt(mean_squared_error(y_test,y_test_pred))))\n",
        "print('Testing MAE : {:.3f}'.format(mean_absolute_error(y_test,y_test_pred)))\n",
        "print('Testing MAPE : {:.3f}'.format(mean_absolute_percentage_error(y_test,y_test_pred)))\n",
        "print('Testing R2 : {:.3f}'.format(r2_score(y_test,y_test_pred)))"
      ],
      "metadata": {
        "colab": {
          "base_uri": "https://localhost:8080/"
        },
        "id": "_RzBlcNmeREL",
        "outputId": "a63d5e81-23d3-4bb2-c98d-20f0fe6bc86f"
      },
      "execution_count": null,
      "outputs": [
        {
          "output_type": "stream",
          "name": "stdout",
          "text": [
            "Testing MSE : 26.551\n",
            "Testing RMSE : 5.153\n",
            "Testing MAE : 3.515\n",
            "Testing MAPE : 43.865\n",
            "Testing R2 : 0.584\n"
          ]
        }
      ]
    },
    {
      "cell_type": "markdown",
      "source": [
        "훈련세트로 모델을 구축했으므로 더 최적 값이 나온다."
      ],
      "metadata": {
        "id": "LbqXLPc2tBS8"
      }
    },
    {
      "cell_type": "markdown",
      "source": [
        "# StatModels vs Sklearn\n"
      ],
      "metadata": {
        "id": "id0s7zbUhcIQ"
      }
    },
    {
      "cell_type": "code",
      "source": [
        "# sklearn에서 선형회귀 import\n",
        "from sklearn.linear_model import LinearRegression\n",
        "import statsmodels.api as sm"
      ],
      "metadata": {
        "id": "MyRUwXO5e8pM"
      },
      "execution_count": null,
      "outputs": []
    },
    {
      "cell_type": "code",
      "source": [
        "lr=LinearRegression(fit_intercept=False) # fit_intercept를 True로 하면 절편 값을 구하고, False는 구하지 않는다.\n",
        "lr.fit(x_train,y_train)\n",
        "y_pred_skl=lr.predict(x_test)\n",
        "lr_stat=sm.OLS(y_train,x_train).fit()\n",
        "y_pred_stat=lr_stat.predict(x_test)"
      ],
      "metadata": {
        "id": "NelnSf9LfKGM"
      },
      "execution_count": null,
      "outputs": []
    },
    {
      "cell_type": "code",
      "source": [
        "# statModels 결과\n",
        "print('Testing MSE : {:.3f}'.format(mean_squared_error(y_test,y_pred_stat)))\n",
        "print('Testing RMSE : {:.3f}'.format(np.sqrt(mean_squared_error(y_test,y_pred_stat))))\n",
        "print('Testing MAE : {:.3f}'.format(mean_absolute_error(y_test,y_pred_stat)))\n",
        "print('Testing MAPE : {:.3f}'.format(mean_absolute_percentage_error(y_test,y_pred_stat)))\n",
        "print('Testing R2 : {:.3f}'.format(r2_score(y_test,y_pred_stat)))"
      ],
      "metadata": {
        "colab": {
          "base_uri": "https://localhost:8080/"
        },
        "id": "NlMXMdeAfrB5",
        "outputId": "5777ea99-2211-472a-9686-1c9338a77a64"
      },
      "execution_count": null,
      "outputs": [
        {
          "output_type": "stream",
          "name": "stdout",
          "text": [
            "Testing MSE : 26.671\n",
            "Testing RMSE : 5.164\n",
            "Testing MAE : 3.529\n",
            "Testing MAPE : 43.857\n",
            "Testing R2 : 0.582\n"
          ]
        }
      ]
    },
    {
      "cell_type": "code",
      "source": [
        "#sklearn 결과\n",
        "print('Testing MSE : {:.3f}'.format(mean_squared_error(y_test,y_pred_skl)))\n",
        "print('Testing RMSE : {:.3f}'.format(np.sqrt(mean_squared_error(y_test,y_pred_skl))))\n",
        "print('Testing MAE : {:.3f}'.format(mean_absolute_error(y_test,y_pred_skl)))\n",
        "print('Testing MAPE : {:.3f}'.format(mean_absolute_percentage_error(y_test,y_pred_skl)))\n",
        "print('Testing R2 : {:.3f}'.format(r2_score(y_test,y_pred_skl)))"
      ],
      "metadata": {
        "colab": {
          "base_uri": "https://localhost:8080/"
        },
        "id": "AAZgxQwUgPgs",
        "outputId": "69dc2bd4-1ce8-4888-c43e-bad52948e0a7"
      },
      "execution_count": null,
      "outputs": [
        {
          "output_type": "stream",
          "name": "stdout",
          "text": [
            "Testing MSE : 26.671\n",
            "Testing RMSE : 5.164\n",
            "Testing MAE : 3.529\n",
            "Testing MAPE : 18.022\n",
            "Testing R2 : 0.582\n"
          ]
        }
      ]
    },
    {
      "cell_type": "markdown",
      "source": [
        "보편적으로는 sklearn을 더 많이 사용하지만\n",
        "\n",
        "통계적인 해석을 필요로 할 때는 StatModel을 더 많이 이용한다."
      ],
      "metadata": {
        "id": "b33WzTSBti4c"
      }
    }
  ]
}